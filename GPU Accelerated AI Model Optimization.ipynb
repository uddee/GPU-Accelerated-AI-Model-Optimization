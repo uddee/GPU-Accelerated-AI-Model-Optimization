{
 "cells": [
  {
   "cell_type": "code",
   "execution_count": 2,
   "metadata": {},
   "outputs": [
    {
     "name": "stdout",
     "output_type": "stream",
     "text": [
      "Training loss: 2.3807859420776367\n",
      "Training time: 0.0966 seconds\n",
      "Using device: cpu\n"
     ]
    }
   ],
   "source": [
    "# Import necessary libraries\n",
    "import torch\n",
    "import torch.nn as nn\n",
    "import torch.optim as optim\n",
    "import time\n",
    "\n",
    "# Check if CUDA is available and set the device accordingly\n",
    "device = torch.device(\"cuda\" if torch.cuda.is_available() else \"cpu\")\n",
    "\n",
    "# Define a simple neural network model\n",
    "class SimpleNN(nn.Module):\n",
    "    def __init__(self):\n",
    "        super(SimpleNN, self).__init__()\n",
    "        self.fc1 = nn.Linear(784, 256)  # 784 -> input size (28x28)\n",
    "        self.fc2 = nn.Linear(256, 10)   # 10 -> output classes (e.g., digits 0-9)\n",
    "        \n",
    "    def forward(self, x):\n",
    "        x = torch.relu(self.fc1(x))\n",
    "        x = self.fc2(x)\n",
    "        return x\n",
    "\n",
    "# Initialize model and move it to the device (GPU or CPU)\n",
    "model = SimpleNN().to(device)\n",
    "\n",
    "# Define a loss function and optimizer\n",
    "criterion = nn.CrossEntropyLoss()\n",
    "optimizer = optim.SGD(model.parameters(), lr=0.01)\n",
    "\n",
    "# Dummy data to simulate a training process (e.g., MNIST images)\n",
    "input_data = torch.randn(64, 784).to(device)  # batch of 64 images, each 28x28 flattened\n",
    "labels = torch.randint(0, 10, (64,)).to(device)  # random labels for the batch\n",
    "\n",
    "# Function to benchmark performance\n",
    "def train_one_epoch():\n",
    "    model.train()\n",
    "    optimizer.zero_grad()\n",
    "    \n",
    "    # Forward pass\n",
    "    outputs = model(input_data)\n",
    "    \n",
    "    # Compute loss\n",
    "    loss = criterion(outputs, labels)\n",
    "    \n",
    "    # Backward pass\n",
    "    loss.backward()\n",
    "    \n",
    "    # Optimize\n",
    "    optimizer.step()\n",
    "    \n",
    "    return loss.item()\n",
    "\n",
    "# Run one epoch and track the time for GPU acceleration\n",
    "start_time = time.time()\n",
    "loss = train_one_epoch()\n",
    "end_time = time.time()\n",
    "\n",
    "# Benchmark the performance\n",
    "print(f\"Training loss: {loss}\")\n",
    "print(f\"Training time: {end_time - start_time:.4f} seconds\")\n",
    "print(f\"Using device: {device}\")\n",
    "\n",
    "# Memory usage (GPU if available)\n",
    "if torch.cuda.is_available():\n",
    "    print(f\"GPU memory allocated: {torch.cuda.memory_allocated() / 1e6} MB\")\n",
    "    print(f\"GPU memory cached: {torch.cuda.memory_reserved() / 1e6} MB\")\n",
    "\n",
    "# If you want to clear cache (useful in production or multiple runs)\n",
    "torch.cuda.empty_cache()\n"
   ]
  }
 ],
 "metadata": {
  "kernelspec": {
   "display_name": "Python 3",
   "language": "python",
   "name": "python3"
  },
  "language_info": {
   "codemirror_mode": {
    "name": "ipython",
    "version": 3
   },
   "file_extension": ".py",
   "mimetype": "text/x-python",
   "name": "python",
   "nbconvert_exporter": "python",
   "pygments_lexer": "ipython3",
   "version": "3.12.9"
  }
 },
 "nbformat": 4,
 "nbformat_minor": 2
}
